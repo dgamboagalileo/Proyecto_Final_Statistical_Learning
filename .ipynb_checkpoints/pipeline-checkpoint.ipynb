{
 "cells": [
  {
   "cell_type": "code",
   "execution_count": null,
   "id": "4b30fd59-9da8-42a0-83e2-b9f11c3323a8",
   "metadata": {},
   "outputs": [],
   "source": [
    "import pandas as pd\n",
    "import modules as mm\n",
    "import preprocessors as pp\n",
    "from sklearn.pipeline import Pipeline"
   ]
  },
  {
   "cell_type": "code",
   "execution_count": null,
   "id": "3e108cec-21e2-4031-ab75-78b6a8c3c1ef",
   "metadata": {},
   "outputs": [],
   "source": [
    "def main():\n",
    "    dataset = pd.read_csv('surgical-deep-use.csv')\n",
    "    dataset.drop('Unnamed: 0', inplace=True, axis=1)\n",
    "    dataset.drop('Unnamed: 0.1', inplace=True, axis=1)\n",
    "    \n",
    "    \n",
    "    numeric_cols_na=mm.getNanColNames(dataset)\n",
    "    my_feature_engineering_pipeline=Pipeline(steps=[\n",
    "        ('numeric_variable_imputer',\n",
    "        pp.NumericalImputerOperator(imputerType='mean', varNames=numeric_cols_na))\n",
    "    ])\n",
    "    \n",
    "    procesed_data=my_feature_engineering_pipeline.fit_transform(dataset)\n",
    "    \n",
    "    print(procesed_data)\n",
    "main()"
   ]
  },
  {
   "cell_type": "code",
   "execution_count": 16,
   "id": "09e46bfc-fc24-43c6-8ec2-71f19cc5650e",
   "metadata": {},
   "outputs": [],
   "source": [
    "dataset = pd.read_csv('surgical-deep-use.csv')"
   ]
  },
  {
   "cell_type": "code",
   "execution_count": null,
   "id": "12b13800-c719-43a2-9e11-becf327baeb9",
   "metadata": {},
   "outputs": [],
   "source": [
    "dataset"
   ]
  },
  {
   "cell_type": "code",
   "execution_count": null,
   "id": "c18022cf-f210-48ee-958b-f5efa328ceeb",
   "metadata": {},
   "outputs": [],
   "source": []
  }
 ],
 "metadata": {
  "kernelspec": {
   "display_name": "Python 3 (ipykernel)",
   "language": "python",
   "name": "python3"
  },
  "language_info": {
   "codemirror_mode": {
    "name": "ipython",
    "version": 3
   },
   "file_extension": ".py",
   "mimetype": "text/x-python",
   "name": "python",
   "nbconvert_exporter": "python",
   "pygments_lexer": "ipython3",
   "version": "3.9.7"
  }
 },
 "nbformat": 4,
 "nbformat_minor": 5
}
