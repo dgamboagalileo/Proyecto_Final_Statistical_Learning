{
 "cells": [
  {
   "cell_type": "code",
   "execution_count": 1,
   "id": "3e108cec-21e2-4031-ab75-78b6a8c3c1ef",
   "metadata": {},
   "outputs": [],
   "source": [
    "import pandas as pd\n",
    "import modules as mm\n",
    "import preprocessors as pp\n",
    "from sklearn.pipeline import Pipeline\n",
    "import numpy as np\n",
    "\n",
    "def featureEngineringAndTrainingModel(df):\n",
    "    dataset=df.drop(['Unnamed: 0', 'Unnamed: 0.1'], axis=1)\n",
    "    \n",
    "    NUMERIC_COLS, CATEGORICAL_COLS, DATE_COLS = mm.getDtypes(dataset)\n",
    "    \n",
    "    numeric_cols_na=mm.getNanColNames(dataset)\n",
    "    numeric_cont_vars=mm.getContinuesCols(dataset)\n",
    "    ##CATEGORICAL_COLS.remove(target)\n",
    "    \n",
    "    my_feature_engineering_pipeline=Pipeline(steps=[\n",
    "        ('numeric_variable_imputer',\n",
    "        pp.NumericalImputerOperator(imputerType='mean', varNames=numeric_cols_na)),\n",
    "\n",
    "        ('categorical_variables_codification',\n",
    "        pp.CategoricalEncoderOperator(varNames=CATEGORICAL_COLS)),\n",
    "\n",
    "        ('outliers_variable_treatment',\n",
    "        pp.OutliersTreatmentOperator(varNames=numeric_cont_vars, factor=1.5)),\n",
    "\n",
    "        ('numerical_treatment_transformation',\n",
    "        pp.NumericalTreatmentTransformation(varNames=numeric_cont_vars)),\n",
    "\n",
    "        ##('feature_scaling',\n",
    "        ##pp.FeatureScaling(varNames=numeric_cont_vars))\n",
    "    ])\n",
    "    \n",
    "    #procesed_data = my_feature_engineering_pipeline.fit_transform(dataset)\n",
    "    #procesed_data.head()\n",
    "    return my_feature_engineering_pipeline\n",
    "    \n",
    "##featureEngineringAndTrainingModel()"
   ]
  },
  {
   "cell_type": "code",
   "execution_count": 2,
   "id": "55b95072",
   "metadata": {},
   "outputs": [],
   "source": [
    "from sklearn.model_selection import train_test_split\n",
    "dataset=pd.read_csv('surgical-deep-use.csv')\n",
    "##print(dataset.head())\n",
    "X=dataset.drop(['Unnamed: 0', 'Unnamed: 0.1', 'complication'], axis=1)\n",
    "y=dataset['complication']\n",
    "\n",
    "X_train, X_test, y_train, y_test=train_test_split(X, y, test_size=0.3, shuffle=True, random_state=2022)\n",
    "\n",
    "dfSalida=featureEngineringAndTrainingModel(dataset).fit_transform(X_train, y_train)\n",
    "dfSalida['complication']=y_train"
   ]
  },
  {
   "cell_type": "code",
   "execution_count": 3,
   "id": "89147bf7",
   "metadata": {},
   "outputs": [],
   "source": [
    "dfSalida.to_csv(\"FE_Salida.csv\")"
   ]
  }
 ],
 "metadata": {
  "kernelspec": {
   "display_name": "Python 3.9.7 ('base')",
   "language": "python",
   "name": "python3"
  },
  "language_info": {
   "codemirror_mode": {
    "name": "ipython",
    "version": 3
   },
   "file_extension": ".py",
   "mimetype": "text/x-python",
   "name": "python",
   "nbconvert_exporter": "python",
   "pygments_lexer": "ipython3",
   "version": "3.9.7"
  },
  "vscode": {
   "interpreter": {
    "hash": "e06ff7da33dc9620448857a90ad8b5f428f0d573d205a934d2841c8aee45ea32"
   }
  }
 },
 "nbformat": 4,
 "nbformat_minor": 5
}
